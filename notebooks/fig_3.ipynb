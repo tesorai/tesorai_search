{
 "cells": [
  {
   "cell_type": "code",
   "execution_count": 2,
   "metadata": {},
   "outputs": [],
   "source": [
    "import pandas as pd\n",
    "import numpy as np\n",
    "import pandas as pd\n",
    "import numpy as np\n",
    "import matplotlib.pyplot as plt\n",
    "import sys\n",
    "sys.path.append('../')\n",
    "from tesorai_search import data_parsing_utils"
   ]
  },
  {
   "cell_type": "markdown",
   "metadata": {},
   "source": [
    "### Figure 3"
   ]
  },
  {
   "cell_type": "markdown",
   "metadata": {},
   "source": [
    "#### Data Preprocessing"
   ]
  },
  {
   "cell_type": "code",
   "execution_count": 3,
   "metadata": {},
   "outputs": [],
   "source": [
    "_DATA_DIR = \"../data/benchmark_results/\""
   ]
  },
  {
   "cell_type": "markdown",
   "metadata": {},
   "source": [
    "#### Single Cell (1) - DISCO"
   ]
  },
  {
   "cell_type": "code",
   "execution_count": 4,
   "metadata": {},
   "outputs": [],
   "source": [
    "benchmark_ts = \"lamanna/1_cells/tesorai/psm_fdr.csv\"\n",
    "ts_psms_disco_1 = pd.read_csv(_DATA_DIR + f\"{benchmark_ts}\")\n",
    "benchmark_fp = \"lamanna/1_cells/fragpipe/psm.tsv\"\n",
    "fp_psms_disco_1 = data_parsing_utils.get_fragpipe_psm_df(_DATA_DIR + f\"{benchmark_fp}\")\n",
    "\n",
    "ts_psms_disco_1 = set(\n",
    "    ts_psms_disco_1[[\"filename\", \"scan_id\", \"clean_sequence\"]].itertuples(\n",
    "        index=False, name=None\n",
    "    )\n",
    ")\n",
    "fp_psms_disco_1 = set(\n",
    "    fp_psms_disco_1[[\"filename\", \"scan_id\", \"Peptide\"]].itertuples(\n",
    "        index=False, name=None\n",
    "    )\n",
    ")"
   ]
  },
  {
   "cell_type": "markdown",
   "metadata": {},
   "source": [
    "#### Single Cell (5) - DISCO"
   ]
  },
  {
   "cell_type": "code",
   "execution_count": 5,
   "metadata": {},
   "outputs": [],
   "source": [
    "benchmark_ts = \"lamanna/5_cells/tesorai/psm_fdr.csv\"\n",
    "ts_psms_disco_5 = pd.read_csv(_DATA_DIR + f\"{benchmark_ts}\")\n",
    "benchmark_fp = \"lamanna/5_cells/fragpipe/psm.tsv\"\n",
    "fp_psms_disco_5 = data_parsing_utils.get_fragpipe_psm_df(_DATA_DIR + f\"{benchmark_fp}\")\n",
    "\n",
    "ts_psms_disco_5 = set(\n",
    "    ts_psms_disco_5[[\"filename\", \"scan_id\", \"clean_sequence\"]].itertuples(\n",
    "        index=False, name=None\n",
    "    )\n",
    ")\n",
    "fp_psms_disco_5 = set(\n",
    "    fp_psms_disco_5[[\"filename\", \"scan_id\", \"Peptide\"]].itertuples(\n",
    "        index=False, name=None\n",
    "    )\n",
    ")"
   ]
  },
  {
   "cell_type": "markdown",
   "metadata": {},
   "source": [
    "#### Bruker timsTOF Pro (PXD010012) - Meier et al."
   ]
  },
  {
   "cell_type": "code",
   "execution_count": 6,
   "metadata": {},
   "outputs": [
    {
     "ename": "FileNotFoundError",
     "evalue": "[Errno 2] No such file or directory: '../data/benchmark_results/meier/tesorai/psm_fdr.csv'",
     "output_type": "error",
     "traceback": [
      "\u001b[0;31m---------------------------------------------------------------------------\u001b[0m",
      "\u001b[0;31mFileNotFoundError\u001b[0m                         Traceback (most recent call last)",
      "\u001b[1;32m/fs/home/rlopez/tesorai_search/notebooks/fig_3.ipynb Cell 10\u001b[0m line \u001b[0;36m2\n\u001b[1;32m      <a href='vscode-notebook-cell://ssh-remote%2Bsupercube016/fs/home/rlopez/tesorai_search/notebooks/fig_3.ipynb#X12sdnNjb2RlLXJlbW90ZQ%3D%3D?line=0'>1</a>\u001b[0m benchmark_ts \u001b[39m=\u001b[39m \u001b[39m\"\u001b[39m\u001b[39mmeier/tesorai/psm_fdr.csv\u001b[39m\u001b[39m\"\u001b[39m\n\u001b[0;32m----> <a href='vscode-notebook-cell://ssh-remote%2Bsupercube016/fs/home/rlopez/tesorai_search/notebooks/fig_3.ipynb#X12sdnNjb2RlLXJlbW90ZQ%3D%3D?line=1'>2</a>\u001b[0m ts_psms_bruker \u001b[39m=\u001b[39m pd\u001b[39m.\u001b[39mread_csv(_DATA_DIR \u001b[39m+\u001b[39m \u001b[39mf\u001b[39m\u001b[39m\"\u001b[39m\u001b[39m{\u001b[39;00mbenchmark_ts\u001b[39m}\u001b[39;00m\u001b[39m\"\u001b[39m)\n\u001b[1;32m      <a href='vscode-notebook-cell://ssh-remote%2Bsupercube016/fs/home/rlopez/tesorai_search/notebooks/fig_3.ipynb#X12sdnNjb2RlLXJlbW90ZQ%3D%3D?line=2'>3</a>\u001b[0m benchmark_fp \u001b[39m=\u001b[39m \u001b[39m\"\u001b[39m\u001b[39mmeier/fragpipe/psm.tsv\u001b[39m\u001b[39m\"\u001b[39m\n\u001b[1;32m      <a href='vscode-notebook-cell://ssh-remote%2Bsupercube016/fs/home/rlopez/tesorai_search/notebooks/fig_3.ipynb#X12sdnNjb2RlLXJlbW90ZQ%3D%3D?line=3'>4</a>\u001b[0m fp_psms_bruker \u001b[39m=\u001b[39m data_parsing_utils\u001b[39m.\u001b[39mget_fragpipe_psm_df(_DATA_DIR \u001b[39m+\u001b[39m \u001b[39mf\u001b[39m\u001b[39m\"\u001b[39m\u001b[39m{\u001b[39;00mbenchmark_fp\u001b[39m}\u001b[39;00m\u001b[39m\"\u001b[39m)\n",
      "File \u001b[0;32m~/miniconda/dev/lib/python3.11/site-packages/pandas/io/parsers/readers.py:1026\u001b[0m, in \u001b[0;36mread_csv\u001b[0;34m(filepath_or_buffer, sep, delimiter, header, names, index_col, usecols, dtype, engine, converters, true_values, false_values, skipinitialspace, skiprows, skipfooter, nrows, na_values, keep_default_na, na_filter, verbose, skip_blank_lines, parse_dates, infer_datetime_format, keep_date_col, date_parser, date_format, dayfirst, cache_dates, iterator, chunksize, compression, thousands, decimal, lineterminator, quotechar, quoting, doublequote, escapechar, comment, encoding, encoding_errors, dialect, on_bad_lines, delim_whitespace, low_memory, memory_map, float_precision, storage_options, dtype_backend)\u001b[0m\n\u001b[1;32m   1013\u001b[0m kwds_defaults \u001b[39m=\u001b[39m _refine_defaults_read(\n\u001b[1;32m   1014\u001b[0m     dialect,\n\u001b[1;32m   1015\u001b[0m     delimiter,\n\u001b[0;32m   (...)\u001b[0m\n\u001b[1;32m   1022\u001b[0m     dtype_backend\u001b[39m=\u001b[39mdtype_backend,\n\u001b[1;32m   1023\u001b[0m )\n\u001b[1;32m   1024\u001b[0m kwds\u001b[39m.\u001b[39mupdate(kwds_defaults)\n\u001b[0;32m-> 1026\u001b[0m \u001b[39mreturn\u001b[39;00m _read(filepath_or_buffer, kwds)\n",
      "File \u001b[0;32m~/miniconda/dev/lib/python3.11/site-packages/pandas/io/parsers/readers.py:620\u001b[0m, in \u001b[0;36m_read\u001b[0;34m(filepath_or_buffer, kwds)\u001b[0m\n\u001b[1;32m    617\u001b[0m _validate_names(kwds\u001b[39m.\u001b[39mget(\u001b[39m\"\u001b[39m\u001b[39mnames\u001b[39m\u001b[39m\"\u001b[39m, \u001b[39mNone\u001b[39;00m))\n\u001b[1;32m    619\u001b[0m \u001b[39m# Create the parser.\u001b[39;00m\n\u001b[0;32m--> 620\u001b[0m parser \u001b[39m=\u001b[39m TextFileReader(filepath_or_buffer, \u001b[39m*\u001b[39m\u001b[39m*\u001b[39mkwds)\n\u001b[1;32m    622\u001b[0m \u001b[39mif\u001b[39;00m chunksize \u001b[39mor\u001b[39;00m iterator:\n\u001b[1;32m    623\u001b[0m     \u001b[39mreturn\u001b[39;00m parser\n",
      "File \u001b[0;32m~/miniconda/dev/lib/python3.11/site-packages/pandas/io/parsers/readers.py:1620\u001b[0m, in \u001b[0;36mTextFileReader.__init__\u001b[0;34m(self, f, engine, **kwds)\u001b[0m\n\u001b[1;32m   1617\u001b[0m     \u001b[39mself\u001b[39m\u001b[39m.\u001b[39moptions[\u001b[39m\"\u001b[39m\u001b[39mhas_index_names\u001b[39m\u001b[39m\"\u001b[39m] \u001b[39m=\u001b[39m kwds[\u001b[39m\"\u001b[39m\u001b[39mhas_index_names\u001b[39m\u001b[39m\"\u001b[39m]\n\u001b[1;32m   1619\u001b[0m \u001b[39mself\u001b[39m\u001b[39m.\u001b[39mhandles: IOHandles \u001b[39m|\u001b[39m \u001b[39mNone\u001b[39;00m \u001b[39m=\u001b[39m \u001b[39mNone\u001b[39;00m\n\u001b[0;32m-> 1620\u001b[0m \u001b[39mself\u001b[39m\u001b[39m.\u001b[39m_engine \u001b[39m=\u001b[39m \u001b[39mself\u001b[39m\u001b[39m.\u001b[39m_make_engine(f, \u001b[39mself\u001b[39m\u001b[39m.\u001b[39mengine)\n",
      "File \u001b[0;32m~/miniconda/dev/lib/python3.11/site-packages/pandas/io/parsers/readers.py:1880\u001b[0m, in \u001b[0;36mTextFileReader._make_engine\u001b[0;34m(self, f, engine)\u001b[0m\n\u001b[1;32m   1878\u001b[0m     \u001b[39mif\u001b[39;00m \u001b[39m\"\u001b[39m\u001b[39mb\u001b[39m\u001b[39m\"\u001b[39m \u001b[39mnot\u001b[39;00m \u001b[39min\u001b[39;00m mode:\n\u001b[1;32m   1879\u001b[0m         mode \u001b[39m+\u001b[39m\u001b[39m=\u001b[39m \u001b[39m\"\u001b[39m\u001b[39mb\u001b[39m\u001b[39m\"\u001b[39m\n\u001b[0;32m-> 1880\u001b[0m \u001b[39mself\u001b[39m\u001b[39m.\u001b[39mhandles \u001b[39m=\u001b[39m get_handle(\n\u001b[1;32m   1881\u001b[0m     f,\n\u001b[1;32m   1882\u001b[0m     mode,\n\u001b[1;32m   1883\u001b[0m     encoding\u001b[39m=\u001b[39m\u001b[39mself\u001b[39m\u001b[39m.\u001b[39moptions\u001b[39m.\u001b[39mget(\u001b[39m\"\u001b[39m\u001b[39mencoding\u001b[39m\u001b[39m\"\u001b[39m, \u001b[39mNone\u001b[39;00m),\n\u001b[1;32m   1884\u001b[0m     compression\u001b[39m=\u001b[39m\u001b[39mself\u001b[39m\u001b[39m.\u001b[39moptions\u001b[39m.\u001b[39mget(\u001b[39m\"\u001b[39m\u001b[39mcompression\u001b[39m\u001b[39m\"\u001b[39m, \u001b[39mNone\u001b[39;00m),\n\u001b[1;32m   1885\u001b[0m     memory_map\u001b[39m=\u001b[39m\u001b[39mself\u001b[39m\u001b[39m.\u001b[39moptions\u001b[39m.\u001b[39mget(\u001b[39m\"\u001b[39m\u001b[39mmemory_map\u001b[39m\u001b[39m\"\u001b[39m, \u001b[39mFalse\u001b[39;00m),\n\u001b[1;32m   1886\u001b[0m     is_text\u001b[39m=\u001b[39mis_text,\n\u001b[1;32m   1887\u001b[0m     errors\u001b[39m=\u001b[39m\u001b[39mself\u001b[39m\u001b[39m.\u001b[39moptions\u001b[39m.\u001b[39mget(\u001b[39m\"\u001b[39m\u001b[39mencoding_errors\u001b[39m\u001b[39m\"\u001b[39m, \u001b[39m\"\u001b[39m\u001b[39mstrict\u001b[39m\u001b[39m\"\u001b[39m),\n\u001b[1;32m   1888\u001b[0m     storage_options\u001b[39m=\u001b[39m\u001b[39mself\u001b[39m\u001b[39m.\u001b[39moptions\u001b[39m.\u001b[39mget(\u001b[39m\"\u001b[39m\u001b[39mstorage_options\u001b[39m\u001b[39m\"\u001b[39m, \u001b[39mNone\u001b[39;00m),\n\u001b[1;32m   1889\u001b[0m )\n\u001b[1;32m   1890\u001b[0m \u001b[39massert\u001b[39;00m \u001b[39mself\u001b[39m\u001b[39m.\u001b[39mhandles \u001b[39mis\u001b[39;00m \u001b[39mnot\u001b[39;00m \u001b[39mNone\u001b[39;00m\n\u001b[1;32m   1891\u001b[0m f \u001b[39m=\u001b[39m \u001b[39mself\u001b[39m\u001b[39m.\u001b[39mhandles\u001b[39m.\u001b[39mhandle\n",
      "File \u001b[0;32m~/miniconda/dev/lib/python3.11/site-packages/pandas/io/common.py:873\u001b[0m, in \u001b[0;36mget_handle\u001b[0;34m(path_or_buf, mode, encoding, compression, memory_map, is_text, errors, storage_options)\u001b[0m\n\u001b[1;32m    868\u001b[0m \u001b[39melif\u001b[39;00m \u001b[39misinstance\u001b[39m(handle, \u001b[39mstr\u001b[39m):\n\u001b[1;32m    869\u001b[0m     \u001b[39m# Check whether the filename is to be opened in binary mode.\u001b[39;00m\n\u001b[1;32m    870\u001b[0m     \u001b[39m# Binary mode does not support 'encoding' and 'newline'.\u001b[39;00m\n\u001b[1;32m    871\u001b[0m     \u001b[39mif\u001b[39;00m ioargs\u001b[39m.\u001b[39mencoding \u001b[39mand\u001b[39;00m \u001b[39m\"\u001b[39m\u001b[39mb\u001b[39m\u001b[39m\"\u001b[39m \u001b[39mnot\u001b[39;00m \u001b[39min\u001b[39;00m ioargs\u001b[39m.\u001b[39mmode:\n\u001b[1;32m    872\u001b[0m         \u001b[39m# Encoding\u001b[39;00m\n\u001b[0;32m--> 873\u001b[0m         handle \u001b[39m=\u001b[39m \u001b[39mopen\u001b[39m(\n\u001b[1;32m    874\u001b[0m             handle,\n\u001b[1;32m    875\u001b[0m             ioargs\u001b[39m.\u001b[39mmode,\n\u001b[1;32m    876\u001b[0m             encoding\u001b[39m=\u001b[39mioargs\u001b[39m.\u001b[39mencoding,\n\u001b[1;32m    877\u001b[0m             errors\u001b[39m=\u001b[39merrors,\n\u001b[1;32m    878\u001b[0m             newline\u001b[39m=\u001b[39m\u001b[39m\"\u001b[39m\u001b[39m\"\u001b[39m,\n\u001b[1;32m    879\u001b[0m         )\n\u001b[1;32m    880\u001b[0m     \u001b[39melse\u001b[39;00m:\n\u001b[1;32m    881\u001b[0m         \u001b[39m# Binary mode\u001b[39;00m\n\u001b[1;32m    882\u001b[0m         handle \u001b[39m=\u001b[39m \u001b[39mopen\u001b[39m(handle, ioargs\u001b[39m.\u001b[39mmode)\n",
      "\u001b[0;31mFileNotFoundError\u001b[0m: [Errno 2] No such file or directory: '../data/benchmark_results/meier/tesorai/psm_fdr.csv'"
     ]
    }
   ],
   "source": [
    "benchmark_ts = \"meier/tesorai/psm_fdr.csv\"\n",
    "ts_psms_bruker = pd.read_csv(_DATA_DIR + f\"{benchmark_ts}\")\n",
    "benchmark_fp = \"meier/fragpipe/psm.tsv\"\n",
    "fp_psms_bruker = data_parsing_utils.get_fragpipe_psm_df(_DATA_DIR + f\"{benchmark_fp}\")\n",
    "fp_psms_bruker[\"filename\"] = (\n",
    "    fp_psms_bruker[\"Spectrum File\"].str.replace(\"interact-\", \"\").str.split(\".\").str[0]\n",
    ")\n",
    "\n",
    "ts_psms_bruker = set(\n",
    "    ts_psms_bruker[[\"filename\", \"scan_id\", \"clean_sequence\"]].itertuples(\n",
    "        index=False, name=None\n",
    "    )\n",
    ")\n",
    "fp_psms_bruker = set(\n",
    "    fp_psms_bruker[[\"filename\", \"scan_id\", \"Peptide\"]].itertuples(\n",
    "        index=False, name=None\n",
    "    )\n",
    ")"
   ]
  },
  {
   "cell_type": "markdown",
   "metadata": {},
   "source": [
    "#### Prosit TMT-10 - Gabriel et al."
   ]
  },
  {
   "cell_type": "code",
   "execution_count": 7,
   "metadata": {},
   "outputs": [],
   "source": [
    "benchmark_ts = \"gabriel/tesorai/psm_fdr.csv\"\n",
    "ts_psms_tmt10 = pd.read_csv(_DATA_DIR + f\"{benchmark_ts}\")\n",
    "benchmark_fp = \"gabriel/fragpipe/psm.tsv\"\n",
    "fp_psms_tmt10 = data_parsing_utils.get_fragpipe_psm_df(_DATA_DIR + f\"{benchmark_fp}\")\n",
    "\n",
    "ts_psms_tmt10 = set(\n",
    "    ts_psms_tmt10[[\"filename\", \"scan_id\", \"clean_sequence\"]].itertuples(\n",
    "        index=False, name=None\n",
    "    )\n",
    ")\n",
    "fp_psms_tmt10 = set(\n",
    "    fp_psms_tmt10[[\"filename\", \"scan_id\", \"Peptide\"]].itertuples(index=False, name=None)\n",
    ")"
   ]
  },
  {
   "cell_type": "markdown",
   "metadata": {},
   "source": [
    "#### Bruker timsTOF Pro (PXD028735) - Van Puyvelde et al."
   ]
  },
  {
   "cell_type": "code",
   "execution_count": 8,
   "metadata": {},
   "outputs": [],
   "source": [
    "benchmark_ts = \"van_puyvelde/bruker/tesorai/psm_fdr.csv\"\n",
    "ts_psms_bruker_quant = pd.read_csv(_DATA_DIR + f\"{benchmark_ts}\")\n",
    "benchmark_fp = \"van_puyvelde/bruker/fragpipe/psm.tsv\"\n",
    "fp_psms_bruker_quant = data_parsing_utils.get_fragpipe_psm_df(\n",
    "    _DATA_DIR + f\"{benchmark_fp}\"\n",
    ")\n",
    "\n",
    "ts_psms_bruker_quant = set(\n",
    "    ts_psms_bruker_quant[[\"filename\", \"scan_id\", \"clean_sequence\"]].itertuples(\n",
    "        index=False, name=None\n",
    "    )\n",
    ")\n",
    "fp_psms_bruker_quant = set(\n",
    "    fp_psms_bruker_quant[[\"filename\", \"scan_id\", \"Peptide\"]].itertuples(\n",
    "        index=False, name=None\n",
    "    )\n",
    ")"
   ]
  },
  {
   "cell_type": "markdown",
   "metadata": {},
   "source": [
    "#### Bruker Sciex TTOF6600 (PXD028735) - Van Puyvelde et al."
   ]
  },
  {
   "cell_type": "code",
   "execution_count": 9,
   "metadata": {},
   "outputs": [],
   "source": [
    "benchmark_ts = \"van_puyvelde/sciex/tesorai/psm_fdr.csv\"\n",
    "ts_psms_sciex_quant = pd.read_csv(_DATA_DIR + f\"{benchmark_ts}\")\n",
    "benchmark_fp = \"van_puyvelde/sciex/fragpipe/psm.tsv\"\n",
    "fp_psms_sciex_quant = data_parsing_utils.get_fragpipe_psm_df(\n",
    "    _DATA_DIR + f\"{benchmark_fp}\"\n",
    ")\n",
    "\n",
    "ts_psms_sciex_quant = set(\n",
    "    ts_psms_sciex_quant[[\"filename\", \"scan_id\", \"clean_sequence\"]].itertuples(\n",
    "        index=False, name=None\n",
    "    )\n",
    ")\n",
    "fp_psms_sciex_quant = set(\n",
    "    fp_psms_sciex_quant[[\"filename\", \"scan_id\", \"Peptide\"]].itertuples(\n",
    "        index=False, name=None\n",
    "    )\n",
    ")"
   ]
  },
  {
   "cell_type": "markdown",
   "metadata": {},
   "source": [
    "#### Phospho (PXD001428) - Giansanti et al."
   ]
  },
  {
   "cell_type": "code",
   "execution_count": 10,
   "metadata": {},
   "outputs": [],
   "source": [
    "benchmark_ts = \"giansanti/tesorai/psm_fdr.csv\"\n",
    "ts_psms_phospho = pd.read_csv(_DATA_DIR + f\"{benchmark_ts}\")\n",
    "benchmark_fp = \"giansanti/fragpipe/psm.tsv\"\n",
    "fp_psms_phospho = data_parsing_utils.get_fragpipe_psm_df(_DATA_DIR + f\"{benchmark_fp}\")\n",
    "\n",
    "ts_psms_phospho = set(\n",
    "    ts_psms_phospho[[\"filename\", \"scan_id\", \"clean_sequence\"]].itertuples(\n",
    "        index=False, name=None\n",
    "    )\n",
    ")\n",
    "fp_psms_phospho = set(\n",
    "    fp_psms_phospho[[\"filename\", \"scan_id\", \"Peptide\"]].itertuples(\n",
    "        index=False, name=None\n",
    "    )\n",
    ")"
   ]
  },
  {
   "cell_type": "markdown",
   "metadata": {},
   "source": [
    "### Plotting"
   ]
  },
  {
   "cell_type": "code",
   "execution_count": 11,
   "metadata": {},
   "outputs": [
    {
     "ename": "NameError",
     "evalue": "name 'ts_psms_bruker' is not defined",
     "output_type": "error",
     "traceback": [
      "\u001b[0;31m---------------------------------------------------------------------------\u001b[0m",
      "\u001b[0;31mNameError\u001b[0m                                 Traceback (most recent call last)",
      "\u001b[1;32m/fs/home/rlopez/tesorai_search/notebooks/fig_3.ipynb Cell 20\u001b[0m line \u001b[0;36m3\n\u001b[1;32m      <a href='vscode-notebook-cell://ssh-remote%2Bsupercube016/fs/home/rlopez/tesorai_search/notebooks/fig_3.ipynb#X25sdnNjb2RlLXJlbW90ZQ%3D%3D?line=0'>1</a>\u001b[0m results_ts \u001b[39m=\u001b[39m {\n\u001b[1;32m      <a href='vscode-notebook-cell://ssh-remote%2Bsupercube016/fs/home/rlopez/tesorai_search/notebooks/fig_3.ipynb#X25sdnNjb2RlLXJlbW90ZQ%3D%3D?line=1'>2</a>\u001b[0m     \u001b[39m\"\u001b[39m\u001b[39mGabriel et al. (TMT10-MS3)\u001b[39m\u001b[39m\"\u001b[39m: ts_psms_tmt10,\n\u001b[0;32m----> <a href='vscode-notebook-cell://ssh-remote%2Bsupercube016/fs/home/rlopez/tesorai_search/notebooks/fig_3.ipynb#X25sdnNjb2RlLXJlbW90ZQ%3D%3D?line=2'>3</a>\u001b[0m     \u001b[39m\"\u001b[39m\u001b[39mMeier et al. (timsTOF)\u001b[39m\u001b[39m\"\u001b[39m: ts_psms_bruker,\n\u001b[1;32m      <a href='vscode-notebook-cell://ssh-remote%2Bsupercube016/fs/home/rlopez/tesorai_search/notebooks/fig_3.ipynb#X25sdnNjb2RlLXJlbW90ZQ%3D%3D?line=3'>4</a>\u001b[0m     \u001b[39m\"\u001b[39m\u001b[39mVan Puyvelde et al. (timsTOF)\u001b[39m\u001b[39m\"\u001b[39m: ts_psms_bruker_quant,\n\u001b[1;32m      <a href='vscode-notebook-cell://ssh-remote%2Bsupercube016/fs/home/rlopez/tesorai_search/notebooks/fig_3.ipynb#X25sdnNjb2RlLXJlbW90ZQ%3D%3D?line=4'>5</a>\u001b[0m     \u001b[39m\"\u001b[39m\u001b[39mVan Puyvelde et al. (Sciex)\u001b[39m\u001b[39m\"\u001b[39m: ts_psms_sciex_quant,\n\u001b[1;32m      <a href='vscode-notebook-cell://ssh-remote%2Bsupercube016/fs/home/rlopez/tesorai_search/notebooks/fig_3.ipynb#X25sdnNjb2RlLXJlbW90ZQ%3D%3D?line=5'>6</a>\u001b[0m     \u001b[39m\"\u001b[39m\u001b[39mGiansanti et al (phospho)\u001b[39m\u001b[39m\"\u001b[39m: ts_psms_phospho,\n\u001b[1;32m      <a href='vscode-notebook-cell://ssh-remote%2Bsupercube016/fs/home/rlopez/tesorai_search/notebooks/fig_3.ipynb#X25sdnNjb2RlLXJlbW90ZQ%3D%3D?line=6'>7</a>\u001b[0m     \u001b[39m\"\u001b[39m\u001b[39mLamanna et al. - DISCO (1)\u001b[39m\u001b[39m\"\u001b[39m: ts_psms_disco_1,\n\u001b[1;32m      <a href='vscode-notebook-cell://ssh-remote%2Bsupercube016/fs/home/rlopez/tesorai_search/notebooks/fig_3.ipynb#X25sdnNjb2RlLXJlbW90ZQ%3D%3D?line=7'>8</a>\u001b[0m     \u001b[39m\"\u001b[39m\u001b[39mLamanna et al. - DISCO (5)\u001b[39m\u001b[39m\"\u001b[39m: ts_psms_disco_5,\n\u001b[1;32m      <a href='vscode-notebook-cell://ssh-remote%2Bsupercube016/fs/home/rlopez/tesorai_search/notebooks/fig_3.ipynb#X25sdnNjb2RlLXJlbW90ZQ%3D%3D?line=8'>9</a>\u001b[0m }\n\u001b[1;32m     <a href='vscode-notebook-cell://ssh-remote%2Bsupercube016/fs/home/rlopez/tesorai_search/notebooks/fig_3.ipynb#X25sdnNjb2RlLXJlbW90ZQ%3D%3D?line=10'>11</a>\u001b[0m results_fp \u001b[39m=\u001b[39m {\n\u001b[1;32m     <a href='vscode-notebook-cell://ssh-remote%2Bsupercube016/fs/home/rlopez/tesorai_search/notebooks/fig_3.ipynb#X25sdnNjb2RlLXJlbW90ZQ%3D%3D?line=11'>12</a>\u001b[0m     \u001b[39m\"\u001b[39m\u001b[39mGabriel et al. (TMT10-MS3)\u001b[39m\u001b[39m\"\u001b[39m: fp_psms_tmt10,\n\u001b[1;32m     <a href='vscode-notebook-cell://ssh-remote%2Bsupercube016/fs/home/rlopez/tesorai_search/notebooks/fig_3.ipynb#X25sdnNjb2RlLXJlbW90ZQ%3D%3D?line=12'>13</a>\u001b[0m     \u001b[39m\"\u001b[39m\u001b[39mMeier et al. (timsTOF)\u001b[39m\u001b[39m\"\u001b[39m: fp_psms_bruker,\n\u001b[0;32m   (...)\u001b[0m\n\u001b[1;32m     <a href='vscode-notebook-cell://ssh-remote%2Bsupercube016/fs/home/rlopez/tesorai_search/notebooks/fig_3.ipynb#X25sdnNjb2RlLXJlbW90ZQ%3D%3D?line=17'>18</a>\u001b[0m     \u001b[39m\"\u001b[39m\u001b[39mLamanna et al. - DISCO (5)\u001b[39m\u001b[39m\"\u001b[39m: fp_psms_disco_5,\n\u001b[1;32m     <a href='vscode-notebook-cell://ssh-remote%2Bsupercube016/fs/home/rlopez/tesorai_search/notebooks/fig_3.ipynb#X25sdnNjb2RlLXJlbW90ZQ%3D%3D?line=18'>19</a>\u001b[0m }\n\u001b[1;32m     <a href='vscode-notebook-cell://ssh-remote%2Bsupercube016/fs/home/rlopez/tesorai_search/notebooks/fig_3.ipynb#X25sdnNjb2RlLXJlbW90ZQ%3D%3D?line=19'>20</a>\u001b[0m \u001b[39m# Note: We get this by counting MS2-level scans in mzML converted raw files.\u001b[39;00m\n\u001b[1;32m     <a href='vscode-notebook-cell://ssh-remote%2Bsupercube016/fs/home/rlopez/tesorai_search/notebooks/fig_3.ipynb#X25sdnNjb2RlLXJlbW90ZQ%3D%3D?line=20'>21</a>\u001b[0m \u001b[39m# Note: Sum of all MS2 scan, across all the mzML files in a particular experiment.\u001b[39;00m\n\u001b[1;32m     <a href='vscode-notebook-cell://ssh-remote%2Bsupercube016/fs/home/rlopez/tesorai_search/notebooks/fig_3.ipynb#X25sdnNjb2RlLXJlbW90ZQ%3D%3D?line=21'>22</a>\u001b[0m \u001b[39m# RAW (ThermoRawFileParser)\u001b[39;00m\n\u001b[1;32m     <a href='vscode-notebook-cell://ssh-remote%2Bsupercube016/fs/home/rlopez/tesorai_search/notebooks/fig_3.ipynb#X25sdnNjb2RlLXJlbW90ZQ%3D%3D?line=22'>23</a>\u001b[0m \u001b[39m# Sciex (FragPipe converted mzML)\u001b[39;00m\n\u001b[1;32m     <a href='vscode-notebook-cell://ssh-remote%2Bsupercube016/fs/home/rlopez/tesorai_search/notebooks/fig_3.ipynb#X25sdnNjb2RlLXJlbW90ZQ%3D%3D?line=23'>24</a>\u001b[0m \u001b[39m# Bruker (FragPipe converted mzML)\u001b[39;00m\n",
      "\u001b[0;31mNameError\u001b[0m: name 'ts_psms_bruker' is not defined"
     ]
    }
   ],
   "source": [
    "results_ts = {\n",
    "    \"Gabriel et al. (TMT10-MS3)\": ts_psms_tmt10,\n",
    "    \"Meier et al. (timsTOF)\": ts_psms_bruker,\n",
    "    \"Van Puyvelde et al. (timsTOF)\": ts_psms_bruker_quant,\n",
    "    \"Van Puyvelde et al. (Sciex)\": ts_psms_sciex_quant,\n",
    "    \"Giansanti et al (phospho)\": ts_psms_phospho,\n",
    "    \"Lamanna et al. - DISCO (1)\": ts_psms_disco_1,\n",
    "    \"Lamanna et al. - DISCO (5)\": ts_psms_disco_5,\n",
    "}\n",
    "\n",
    "results_fp = {\n",
    "    \"Gabriel et al. (TMT10-MS3)\": fp_psms_tmt10,\n",
    "    \"Meier et al. (timsTOF)\": fp_psms_bruker,\n",
    "    \"Van Puyvelde et al. (timsTOF)\": fp_psms_bruker_quant,\n",
    "    \"Van Puyvelde et al. (Sciex)\": fp_psms_sciex_quant,\n",
    "    \"Giansanti et al (phospho)\": fp_psms_phospho,\n",
    "    \"Lamanna et al. - DISCO (1)\": fp_psms_disco_1,\n",
    "    \"Lamanna et al. - DISCO (5)\": fp_psms_disco_5,\n",
    "}\n",
    "# Note: We get this by counting MS2-level scans in mzML converted raw files.\n",
    "# Note: Sum of all MS2 scan, across all the mzML files in a particular experiment.\n",
    "# RAW (ThermoRawFileParser)\n",
    "# Sciex (FragPipe converted mzML)\n",
    "# Bruker (FragPipe converted mzML)\n",
    "results_ms2 = {\n",
    "    \"Gabriel et al. (TMT10-MS3)\": 11990,\n",
    "    \"Meier et al. (timsTOF)\": 1224573,\n",
    "    \"Van Puyvelde et al. (timsTOF)\": 3335665,\n",
    "    \"Van Puyvelde et al. (Sciex)\": 517671,\n",
    "    \"Giansanti et al (phospho)\": 250843,\n",
    "    \"Lamanna et al. - DISCO (1)\": 150439,\n",
    "    \"Lamanna et al. - DISCO (5)\": 130399,\n",
    "}"
   ]
  },
  {
   "cell_type": "code",
   "execution_count": 23,
   "metadata": {},
   "outputs": [
    {
     "data": {
      "image/png": "[encoded data removed]",
      "text/plain": [
       "<Figure size 1200x600 with 1 Axes>"
      ]
     },
     "metadata": {},
     "output_type": "display_data"
    }
   ],
   "source": [
    "# Function to get unique PSM count (based on filename, scan_id, clean_sequence)\n",
    "def get_unique_psm_count(psm_set):\n",
    "    return len(\n",
    "        set(\n",
    "            (fname, scan_id, clean_sequence)\n",
    "            for fname, scan_id, clean_sequence in psm_set\n",
    "        )\n",
    "    )\n",
    "\n",
    "\n",
    "# Function to get unique MS2 scans count (based on filename, scan_id)\n",
    "def get_unique_ms2_scan_count(ms2_set):\n",
    "    return len(set((fname, scan_id) for fname, scan_id, _ in ms2_set))\n",
    "\n",
    "\n",
    "# Compute unique PSM counts\n",
    "ts_counts = {\n",
    "    dataset: get_unique_ms2_scan_count(psms) for dataset, psms in results_ts.items()\n",
    "}\n",
    "fp_counts = {\n",
    "    dataset: get_unique_ms2_scan_count(psms) for dataset, psms in results_fp.items()\n",
    "}\n",
    "\n",
    "# Compute Identification Rates\n",
    "ts_rates = {\n",
    "    dataset: (ts_counts[dataset] / results_ms2[dataset]) * 100 for dataset in results_ts\n",
    "}\n",
    "fp_rates = {\n",
    "    dataset: (fp_counts[dataset] / results_ms2[dataset]) * 100 for dataset in results_fp\n",
    "}\n",
    "\n",
    "# Plot\n",
    "datasets = list(results_ms2.keys())\n",
    "x = np.arange(len(datasets))\n",
    "width = 0.4\n",
    "\n",
    "fig, ax = plt.subplots(figsize=(12, 6))\n",
    "bars1 = ax.bar(\n",
    "    x - width / 2,\n",
    "    [ts_rates[d] for d in datasets],\n",
    "    width,\n",
    "    label=\"Tesorai\",\n",
    "    color=\"#1902ff\",\n",
    "    alpha=1,\n",
    ")\n",
    "bars2 = ax.bar(\n",
    "    x + width / 2,\n",
    "    [fp_rates[d] for d in datasets],\n",
    "    width,\n",
    "    label=\"FragPipe\",\n",
    "    color=\"limegreen\",\n",
    "    alpha=1,\n",
    ")\n",
    "\n",
    "# Add percentage text on top of bars\n",
    "for bar in bars1:\n",
    "    yval = bar.get_height()\n",
    "    ax.text(\n",
    "        bar.get_x() + bar.get_width() / 2,\n",
    "        yval + 1,\n",
    "        f\"{yval:.1f}%\",\n",
    "        ha=\"center\",\n",
    "        va=\"bottom\",\n",
    "        fontsize=10,\n",
    "        color=\"black\",\n",
    "    )\n",
    "\n",
    "for bar in bars2:\n",
    "    yval = bar.get_height()\n",
    "    ax.text(\n",
    "        bar.get_x() + bar.get_width() / 2,\n",
    "        yval + 1,\n",
    "        f\"{yval:.1f}%\",\n",
    "        ha=\"center\",\n",
    "        va=\"bottom\",\n",
    "        fontsize=10,\n",
    "        color=\"black\",\n",
    "    )\n",
    "\n",
    "# Labels and formatting\n",
    "# ax.set_xlabel(\"Dataset\", fontsize=12)\n",
    "ax.set_ylabel(\"MS2 Identification Rate (%)\", fontsize=12)\n",
    "# ax.set_title(\"Tesorai and FragPipe MS2 Identification Rates per Dataset\", fontsize=14)\n",
    "ax.set_xticks(x)\n",
    "ax.set_xticklabels(datasets, rotation=45, ha=\"right\", fontsize=10)\n",
    "ax.legend()\n",
    "\n",
    "# Set y-axis limit to 100\n",
    "ax.set_ylim(0, 100)\n",
    "\n",
    "plt.tight_layout()\n",
    "plt.show()"
   ]
  },
  {
   "cell_type": "markdown",
   "metadata": {},
   "source": [
    "### Supplementary Table 3"
   ]
  },
  {
   "cell_type": "code",
   "execution_count": 17,
   "metadata": {},
   "outputs": [],
   "source": [
    "_DATA_DIR = \"../data/benchmark_results/\"\n",
    "_BENCHMARKS = [\n",
    "    \"gabriel\",\n",
    "    \"meier\",\n",
    "    \"van_puyvelde/bruker\",\n",
    "    \"van_puyvelde/sciex\",\n",
    "    \"giansanti\",\n",
    "    \"lamanna/1_cells\",\n",
    "    \"lamanna/5_cells\",\n",
    "    \"sarkizova\",\n",
    "]\n",
    "\n",
    "\n",
    "def get_benchmark_results(benchmark):\n",
    "    benchmark_results = {\n",
    "        \"FragPipe\": set(\n",
    "            data_parsing_utils.get_fragpipe_peptides(\n",
    "                _DATA_DIR + f\"{benchmark}/fragpipe/peptide.tsv\"\n",
    "            )\n",
    "        ),\n",
    "        \"Tesorai\": set(\n",
    "            data_parsing_utils.get_tesorai_peptides(\n",
    "                _DATA_DIR + f\"{benchmark}/tesorai/pep_fdr.csv\"\n",
    "            )\n",
    "        ),\n",
    "    }\n",
    "    return benchmark_results"
   ]
  },
  {
   "cell_type": "code",
   "execution_count": 18,
   "metadata": {},
   "outputs": [
    {
     "name": "stdout",
     "output_type": "stream",
     "text": [
      "Found 6291 peptides by fragpipe from 6291 unique rows\n",
      "Found 6748 peptides by TS\n",
      "Found 67155 peptides by fragpipe from 67155 unique rows\n",
      "Found 68377 peptides by TS\n",
      "Found 68065 peptides by fragpipe from 68065 unique rows\n",
      "Found 75199 peptides by TS\n",
      "Found 34809 peptides by fragpipe from 34809 unique rows\n",
      "Found 40886 peptides by TS\n",
      "Found 12588 peptides by fragpipe from 12588 unique rows\n",
      "Found 14387 peptides by TS\n",
      "Found 5713 peptides by fragpipe from 5713 unique rows\n",
      "Found 6744 peptides by TS\n",
      "Found 9598 peptides by fragpipe from 9598 unique rows\n",
      "Found 11134 peptides by TS\n",
      "Found 11841 peptides by fragpipe from 11841 unique rows\n",
      "Found 12063 peptides by TS\n"
     ]
    }
   ],
   "source": [
    "all_peptides = {}\n",
    "for benchmark in _BENCHMARKS:\n",
    "    all_peptides[benchmark] = get_benchmark_results(benchmark)"
   ]
  },
  {
   "cell_type": "code",
   "execution_count": 19,
   "metadata": {},
   "outputs": [
    {
     "data": {
      "text/html": [
       "<div>\n",
       "<style scoped>\n",
       "    .dataframe tbody tr th:only-of-type {\n",
       "        vertical-align: middle;\n",
       "    }\n",
       "\n",
       "    .dataframe tbody tr th {\n",
       "        vertical-align: top;\n",
       "    }\n",
       "\n",
       "    .dataframe thead th {\n",
       "        text-align: right;\n",
       "    }\n",
       "</style>\n",
       "<table border=\"1\" class=\"dataframe\">\n",
       "  <thead>\n",
       "    <tr style=\"text-align: right;\">\n",
       "      <th></th>\n",
       "      <th>FragPipe</th>\n",
       "      <th>Tesorai</th>\n",
       "      <th>union</th>\n",
       "    </tr>\n",
       "  </thead>\n",
       "  <tbody>\n",
       "    <tr>\n",
       "      <th>gabriel</th>\n",
       "      <td>6291</td>\n",
       "      <td>6748</td>\n",
       "      <td>7115</td>\n",
       "    </tr>\n",
       "    <tr>\n",
       "      <th>meier</th>\n",
       "      <td>67155</td>\n",
       "      <td>68377</td>\n",
       "      <td>73521</td>\n",
       "    </tr>\n",
       "    <tr>\n",
       "      <th>van_puyvelde/bruker</th>\n",
       "      <td>68065</td>\n",
       "      <td>75199</td>\n",
       "      <td>81925</td>\n",
       "    </tr>\n",
       "    <tr>\n",
       "      <th>van_puyvelde/sciex</th>\n",
       "      <td>34809</td>\n",
       "      <td>40886</td>\n",
       "      <td>43842</td>\n",
       "    </tr>\n",
       "    <tr>\n",
       "      <th>giansanti</th>\n",
       "      <td>12588</td>\n",
       "      <td>14387</td>\n",
       "      <td>14754</td>\n",
       "    </tr>\n",
       "    <tr>\n",
       "      <th>lamanna/1_cells</th>\n",
       "      <td>5713</td>\n",
       "      <td>6744</td>\n",
       "      <td>7292</td>\n",
       "    </tr>\n",
       "    <tr>\n",
       "      <th>lamanna/5_cells</th>\n",
       "      <td>9598</td>\n",
       "      <td>11134</td>\n",
       "      <td>12012</td>\n",
       "    </tr>\n",
       "    <tr>\n",
       "      <th>sarkizova</th>\n",
       "      <td>11841</td>\n",
       "      <td>12063</td>\n",
       "      <td>13143</td>\n",
       "    </tr>\n",
       "  </tbody>\n",
       "</table>\n",
       "</div>"
      ],
      "text/plain": [
       "                     FragPipe  Tesorai  union\n",
       "gabriel                  6291     6748   7115\n",
       "meier                   67155    68377  73521\n",
       "van_puyvelde/bruker     68065    75199  81925\n",
       "van_puyvelde/sciex      34809    40886  43842\n",
       "giansanti               12588    14387  14754\n",
       "lamanna/1_cells          5713     6744   7292\n",
       "lamanna/5_cells          9598    11134  12012\n",
       "sarkizova               11841    12063  13143"
      ]
     },
     "execution_count": 19,
     "metadata": {},
     "output_type": "execute_result"
    }
   ],
   "source": [
    "counts = {}\n",
    "for benchmark, results in all_peptides.items():\n",
    "    counts_per_search_engine = {\n",
    "        search_engine: len(peptides) for search_engine, peptides in results.items()\n",
    "    }\n",
    "    counts_per_search_engine[\"union\"] = len(set.union(*results.values()))\n",
    "    counts[benchmark] = counts_per_search_engine\n",
    "\n",
    "raw_table = pd.DataFrame(counts).T\n",
    "raw_table"
   ]
  }
 ],
 "metadata": {
  "kernelspec": {
   "display_name": "ts_data",
   "language": "python",
   "name": "python3"
  },
  "language_info": {
   "codemirror_mode": {
    "name": "ipython",
    "version": 3
   },
   "file_extension": ".py",
   "mimetype": "text/x-python",
   "name": "python",
   "nbconvert_exporter": "python",
   "pygments_lexer": "ipython3",
   "version": "3.11.3"
  }
 },
 "nbformat": 4,
 "nbformat_minor": 2
}
